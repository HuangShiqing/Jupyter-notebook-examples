{
 "cells": [
  {
   "cell_type": "code",
   "execution_count": 1,
   "metadata": {
    "collapsed": true
   },
   "outputs": [],
   "source": [
    "import tensorflow as tf\n",
    "import numpy as np\n",
    "\n",
    "import pickle\n",
    "import time"
   ]
  },
  {
   "cell_type": "code",
   "execution_count": 2,
   "metadata": {
    "collapsed": true
   },
   "outputs": [],
   "source": [
    "checkpoint_dir = \"F:/Python/final/test/\""
   ]
  },
  {
   "cell_type": "code",
   "execution_count": null,
   "metadata": {
    "collapsed": true
   },
   "outputs": [],
   "source": []
  },
  {
   "cell_type": "code",
   "execution_count": null,
   "metadata": {
    "collapsed": true
   },
   "outputs": [],
   "source": []
  },
  {
   "cell_type": "code",
   "execution_count": null,
   "metadata": {
    "collapsed": true
   },
   "outputs": [],
   "source": [
    "#下面是保存tf创建一个ckpt文件的过程"
   ]
  },
  {
   "cell_type": "code",
   "execution_count": 3,
   "metadata": {
    "collapsed": true
   },
   "outputs": [],
   "source": [
    "#定义3个varible\n",
    "with tf.variable_scope(\"foo\",reuse=False):\n",
    "    v1 = tf.get_variable(name=\"v1\",shape=[3,3],dtype=tf.float32,initializer=tf.zeros_initializer())\n",
    "    v2 = tf.get_variable(name=\"v2\",shape=[3,3],dtype=tf.float32,initializer=tf.random_normal_initializer(seed=1),trainable=False)\n",
    "    v3 = v1 + v2"
   ]
  },
  {
   "cell_type": "code",
   "execution_count": 6,
   "metadata": {
    "collapsed": false
   },
   "outputs": [
    {
     "name": "stdout",
     "output_type": "stream",
     "text": [
      "<tf.Variable 'foo/v1:0' shape=(3, 3) dtype=float32_ref> <class 'tensorflow.python.ops.variables.Variable'>\n",
      "Tensor(\"foo/add:0\", shape=(3, 3), dtype=float32) <class 'tensorflow.python.framework.ops.Tensor'>\n"
     ]
    }
   ],
   "source": [
    "#注意，这里v1和v3是不一样的。v1作为variable不是tensor类型。但是平时用的时候v1也是tensor。\n",
    "#这里要打个问号\n",
    "#而v3作为一个运算肯定是tensor\n",
    "print(type(v1))\n",
    "print(v1)\n",
    "print(type(v3))\n",
    "print(v3)"
   ]
  },
  {
   "cell_type": "code",
   "execution_count": 4,
   "metadata": {
    "collapsed": false
   },
   "outputs": [
    {
     "name": "stdout",
     "output_type": "stream",
     "text": [
      "[[ 0.  0.  0.]\n",
      " [ 0.  0.  0.]\n",
      " [ 0.  0.  0.]]\n",
      "[[-0.81131822  1.48459876  0.06532937]\n",
      " [-2.4427042   0.0992484   0.59122431]\n",
      " [ 0.59282297 -2.12292957 -0.72289723]]\n"
     ]
    }
   ],
   "source": [
    "#定义一个saver，还有一些参数，具体查看文档\n",
    "saver = tf.train.Saver(max_to_keep=2)\n",
    "#下面这句是为了生成meta文件的json格式文件，平时可以注释掉\n",
    "# saver.export_meta_graph(checkpoint_dir + \"mode.ckpt.meda.json\", as_text=True)\n",
    "#这里是把3个tensor初始化然后保存起来\n",
    "with tf.Session() as sess:\n",
    "    tf.global_variables_initializer().run()\n",
    "    print(sess.run(v1))\n",
    "    print(sess.run(v2))\n",
    "    sess.run(v3)\n",
    "    #如果有参数global_step=10，那么最后的文件名会变成xx/model.ckpt-10\n",
    "    saver.save(sess,checkpoint_dir + \"model.ckpt\",global_step=10)"
   ]
  },
  {
   "cell_type": "code",
   "execution_count": null,
   "metadata": {
    "collapsed": true
   },
   "outputs": [],
   "source": []
  },
  {
   "cell_type": "code",
   "execution_count": null,
   "metadata": {
    "collapsed": true
   },
   "outputs": [],
   "source": []
  },
  {
   "cell_type": "code",
   "execution_count": null,
   "metadata": {
    "collapsed": true
   },
   "outputs": [],
   "source": [
    "#下面是恢复参数的一种方法，这种方法需要和原本一样重新定义varible"
   ]
  },
  {
   "cell_type": "code",
   "execution_count": null,
   "metadata": {
    "collapsed": true
   },
   "outputs": [],
   "source": [
    "#定义3个varible\n",
    "with tf.variable_scope(\"foo\",reuse=False):\n",
    "    v1 = tf.get_variable(name=\"v1\",shape=[3,3],dtype=tf.float32,initializer=tf.zeros_initializer())\n",
    "    v2 = tf.get_variable(name=\"v2\",shape=[3,3],dtype=tf.float32,initializer=tf.random_normal_initializer(seed=1),trainable=False)\n",
    "    v3 = v1 + v2"
   ]
  },
  {
   "cell_type": "code",
   "execution_count": 5,
   "metadata": {
    "collapsed": false
   },
   "outputs": [
    {
     "name": "stdout",
     "output_type": "stream",
     "text": [
      "INFO:tensorflow:Restoring parameters from C:/Users/hsqyc/Desktop/model.ckpt-10\n",
      "load ok!\n"
     ]
    }
   ],
   "source": [
    "#读取ckpt里保存的参数\n",
    "sess = tf.InteractiveSession()\n",
    "saver = tf.train.Saver(max_to_keep=2)\n",
    "#如果有checkpoint这个文件可以加下面这句话，如果只有一个ckpt文件就不需要这个if\n",
    "if tf.train.get_checkpoint_state(checkpoint_dir): #确认是否存在\n",
    "    saver.restore(sess,checkpoint_dir + \"model.ckpt-10\")\n",
    "    print(\"load ok!\")\n",
    "else:\n",
    "    print(\"ckpt文件不存在\")"
   ]
  },
  {
   "cell_type": "code",
   "execution_count": 7,
   "metadata": {
    "collapsed": false
   },
   "outputs": [
    {
     "name": "stdout",
     "output_type": "stream",
     "text": [
      "[[-0.81131822  1.48459876  0.06532937]\n",
      " [-2.4427042   0.0992484   0.59122431]\n",
      " [ 0.59282297 -2.12292957 -0.72289723]]\n"
     ]
    }
   ],
   "source": [
    "#这里可以显示v3这个tensor是有值的\n",
    "print(sess.run(v3))"
   ]
  },
  {
   "cell_type": "code",
   "execution_count": null,
   "metadata": {
    "collapsed": true
   },
   "outputs": [],
   "source": []
  },
  {
   "cell_type": "code",
   "execution_count": null,
   "metadata": {
    "collapsed": true
   },
   "outputs": [],
   "source": []
  },
  {
   "cell_type": "code",
   "execution_count": null,
   "metadata": {
    "collapsed": true
   },
   "outputs": [],
   "source": [
    "#下面是恢复varible的另外一种方法，不需要定义，直接从meta文件里读(meta文件里存放的是元图数据)"
   ]
  },
  {
   "cell_type": "code",
   "execution_count": 3,
   "metadata": {
    "collapsed": false
   },
   "outputs": [
    {
     "name": "stdout",
     "output_type": "stream",
     "text": [
      "INFO:tensorflow:Restoring parameters from F:/Python/final/test/model.ckpt-10\n",
      "[[-0.81131822  1.48459876  0.06532937]\n",
      " [-2.4427042   0.0992484   0.59122431]\n",
      " [ 0.59282297 -2.12292957 -0.72289723]]\n"
     ]
    }
   ],
   "source": [
    "saver = tf.train.import_meta_graph(checkpoint_dir + \"model.ckpt-10.meta\")\n",
    "# sess = tf.InteractiveSession()\n",
    "with tf.Session() as sess:\n",
    "    saver.restore(sess,checkpoint_dir + \"model.ckpt-10\")\n",
    "    #根据变量名来直接获取tensor的值，而不需要重新定义tensor\n",
    "    print(sess.run(tf.get_default_graph().get_tensor_by_name(\"foo/v2:0\")))"
   ]
  },
  {
   "cell_type": "code",
   "execution_count": null,
   "metadata": {
    "collapsed": true
   },
   "outputs": [],
   "source": []
  },
  {
   "cell_type": "code",
   "execution_count": null,
   "metadata": {
    "collapsed": true
   },
   "outputs": [],
   "source": []
  },
  {
   "cell_type": "code",
   "execution_count": null,
   "metadata": {
    "collapsed": true
   },
   "outputs": [],
   "source": [
    "#下面是有选择的从ckpt中恢复部分变量"
   ]
  },
  {
   "cell_type": "code",
   "execution_count": 3,
   "metadata": {
    "collapsed": false
   },
   "outputs": [],
   "source": [
    "#只定义1个varible（这里定义的名字要跟原来一样）\n",
    "with tf.variable_scope(\"foo\",reuse=False):\n",
    "    x1 = tf.get_variable(name=\"v1\",shape=[3,3],dtype=tf.float32,initializer=tf.zeros_initializer())\n",
    "#     x2 = tf.get_variable(name=\"v2\",shape=[3,3],dtype=tf.float32,initializer=tf.random_normal_initializer(seed=1),trainable=False)\n",
    "#     x3 = x1 + x2"
   ]
  },
  {
   "cell_type": "code",
   "execution_count": 5,
   "metadata": {
    "collapsed": false
   },
   "outputs": [
    {
     "name": "stdout",
     "output_type": "stream",
     "text": [
      "INFO:tensorflow:Restoring parameters from F:/Python/final/test/model.ckpt-10\n",
      "load ok!\n",
      "[[ 0.  0.  0.]\n",
      " [ 0.  0.  0.]\n",
      " [ 0.  0.  0.]]\n"
     ]
    }
   ],
   "source": [
    "#然后定义一个list，包含需要加载的varible\n",
    "A = [x1]\n",
    "#读取ckpt里保存的参数\n",
    "# sess = tf.InteractiveSession()\n",
    "with tf.Session() as sess:\n",
    "    #构建saver的时候添加参数A\n",
    "    saver = tf.train.Saver(max_to_keep=2,var_list=A)\n",
    "    if tf.train.get_checkpoint_state(checkpoint_dir): #确认是否存在\n",
    "        saver.restore(sess,checkpoint_dir + \"model.ckpt-10\")\n",
    "        print(\"load ok!\")\n",
    "    else:\n",
    "        print(\"ckpt文件不存在\")\n",
    "    print(sess.run(x1))"
   ]
  },
  {
   "cell_type": "code",
   "execution_count": null,
   "metadata": {
    "collapsed": true
   },
   "outputs": [],
   "source": []
  },
  {
   "cell_type": "code",
   "execution_count": null,
   "metadata": {
    "collapsed": true
   },
   "outputs": [],
   "source": []
  },
  {
   "cell_type": "code",
   "execution_count": null,
   "metadata": {
    "collapsed": true
   },
   "outputs": [],
   "source": [
    "#下面是从重新定义原来一样的变量，但是变量名不一样。然后从ckpt中恢复值到新变量"
   ]
  },
  {
   "cell_type": "code",
   "execution_count": 3,
   "metadata": {
    "collapsed": true
   },
   "outputs": [],
   "source": [
    "#定义3个不同名字的tensor\n",
    "with tf.variable_scope(\"foo\",reuse=False):\n",
    "    x1 = tf.get_variable(name=\"other-v1\",shape=[3,3],dtype=tf.float32,initializer=tf.zeros_initializer())\n",
    "    x2 = tf.get_variable(name=\"other-v2\",shape=[3,3],dtype=tf.float32,initializer=tf.random_normal_initializer(seed=1),trainable=False)\n",
    "    x3 = x1 + x2"
   ]
  },
  {
   "cell_type": "code",
   "execution_count": 4,
   "metadata": {
    "collapsed": false
   },
   "outputs": [
    {
     "name": "stdout",
     "output_type": "stream",
     "text": [
      "INFO:tensorflow:Restoring parameters from F:/Python/final/test/model.ckpt-10\n",
      "load ok!\n",
      "<tf.Variable 'foo/other-v2:0' shape=(3, 3) dtype=float32_ref>\n",
      "[[-0.81131822  1.48459876  0.06532937]\n",
      " [-2.4427042   0.0992484   0.59122431]\n",
      " [ 0.59282297 -2.12292957 -0.72289723]]\n"
     ]
    }
   ],
   "source": [
    "#然后定义一个字典，用法和上面一样。字典的key是旧名字，值是新的引用\n",
    "dict = {\"foo/v1\":x1,\"foo/v2\":x2}\n",
    "#读取ckpt里保存的参数\n",
    "# sess = tf.InteractiveSession()\n",
    "with tf.Session() as sess:\n",
    "    saver = tf.train.Saver(max_to_keep=2,var_list=dict)\n",
    "    if tf.train.get_checkpoint_state(checkpoint_dir): #确认是否存在\n",
    "        saver.restore(sess,checkpoint_dir + \"model.ckpt-10\")\n",
    "        print(\"load ok!\")\n",
    "        print(x2)\n",
    "        print(sess.run(x2))\n",
    "    else:\n",
    "        print(\"ckpt文件不存在\")\n",
    "    "
   ]
  },
  {
   "cell_type": "code",
   "execution_count": null,
   "metadata": {
    "collapsed": true
   },
   "outputs": [],
   "source": []
  },
  {
   "cell_type": "code",
   "execution_count": null,
   "metadata": {
    "collapsed": true
   },
   "outputs": [],
   "source": []
  },
  {
   "cell_type": "code",
   "execution_count": null,
   "metadata": {
    "collapsed": true
   },
   "outputs": [],
   "source": [
    "#下面是几种在tf中查看变量的方法"
   ]
  },
  {
   "cell_type": "code",
   "execution_count": 11,
   "metadata": {
    "collapsed": false
   },
   "outputs": [
    {
     "name": "stdout",
     "output_type": "stream",
     "text": [
      "[<tf.Variable 'foo/other-v1:0' shape=(3, 3) dtype=float32_ref>, <tf.Variable 'foo/other-v2:0' shape=(3, 3) dtype=float32_ref>]\n",
      "[<tf.Variable 'foo/other-v1:0' shape=(3, 3) dtype=float32_ref>]\n"
     ]
    }
   ],
   "source": [
    "#直接用tf的函数读取变量\n",
    "print(tf.global_variables())\n",
    "print(tf.trainable_variables())"
   ]
  },
  {
   "cell_type": "code",
   "execution_count": null,
   "metadata": {
    "collapsed": true
   },
   "outputs": [],
   "source": []
  },
  {
   "cell_type": "code",
   "execution_count": 16,
   "metadata": {
    "collapsed": false
   },
   "outputs": [
    {
     "name": "stdout",
     "output_type": "stream",
     "text": [
      "  [*] printing global variables\n",
      "  var   0: (3, 3)            foo/other-v1:0\n",
      "  var   1: (3, 3)            foo/other-v2:0\n"
     ]
    }
   ],
   "source": [
    "#tl.layers中也有函数可以读变量，而且还比较方便\n",
    "#其实就是tf.global_variables()的封装\n",
    "from tensorlayer.layers import *\n",
    "print_all_variables()"
   ]
  },
  {
   "cell_type": "code",
   "execution_count": null,
   "metadata": {
    "collapsed": true
   },
   "outputs": [],
   "source": []
  },
  {
   "cell_type": "code",
   "execution_count": null,
   "metadata": {
    "collapsed": true
   },
   "outputs": [],
   "source": []
  },
  {
   "cell_type": "code",
   "execution_count": null,
   "metadata": {
    "collapsed": true
   },
   "outputs": [],
   "source": [
    "#下面是从ckpt中直接读取保存的变量名及其值"
   ]
  },
  {
   "cell_type": "code",
   "execution_count": 10,
   "metadata": {
    "collapsed": false
   },
   "outputs": [
    {
     "name": "stdout",
     "output_type": "stream",
     "text": [
      "{'foo/v1': [3, 3], 'foo/v2': [3, 3]}\n",
      "{'foo/v1': tf.float32, 'foo/v2': tf.float32}\n",
      "[[-0.81131822  1.48459876  0.06532937]\n",
      " [-2.4427042   0.0992484   0.59122431]\n",
      " [ 0.59282297 -2.12292957 -0.72289723]]\n"
     ]
    }
   ],
   "source": [
    "#创建一个读写器\n",
    "reader = tf.train.NewCheckpointReader(checkpoint_dir + \"model.ckpt-10\")\n",
    "#读变量和shape的映射字典\n",
    "all_variables_shape = reader.get_variable_to_shape_map()\n",
    "#读变量和dtyte的映射字典\n",
    "all_variables_dtyte = reader.get_variable_to_dtype_map()\n",
    "\n",
    "print(all_variables_shape)\n",
    "print(all_variables_dtyte)\n",
    "#从读写器中根据变量名获取变量的值\n",
    "print(reader.get_tensor(\"foo/v2\") )"
   ]
  },
  {
   "cell_type": "code",
   "execution_count": null,
   "metadata": {
    "collapsed": true
   },
   "outputs": [],
   "source": []
  },
  {
   "cell_type": "code",
   "execution_count": null,
   "metadata": {
    "collapsed": true
   },
   "outputs": [],
   "source": []
  },
  {
   "cell_type": "code",
   "execution_count": null,
   "metadata": {
    "collapsed": true
   },
   "outputs": [],
   "source": []
  }
 ],
 "metadata": {
  "anaconda-cloud": {},
  "kernelspec": {
   "display_name": "Python [default]",
   "language": "python",
   "name": "python3"
  },
  "language_info": {
   "codemirror_mode": {
    "name": "ipython",
    "version": 3
   },
   "file_extension": ".py",
   "mimetype": "text/x-python",
   "name": "python",
   "nbconvert_exporter": "python",
   "pygments_lexer": "ipython3",
   "version": "3.5.2"
  }
 },
 "nbformat": 4,
 "nbformat_minor": 1
}
