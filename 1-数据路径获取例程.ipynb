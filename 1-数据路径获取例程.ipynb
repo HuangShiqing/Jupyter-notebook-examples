{
 "cells": [
  {
   "cell_type": "code",
   "execution_count": 1,
   "metadata": {
    "collapsed": true
   },
   "outputs": [],
   "source": [
    "import tensorflow as tf\n",
    "import tensorlayer as tl\n",
    "import numpy as np\n",
    "\n",
    "import os"
   ]
  },
  {
   "cell_type": "code",
   "execution_count": 2,
   "metadata": {
    "collapsed": true
   },
   "outputs": [],
   "source": [
    "def load_image_path(data_path, valid_proportion, test_proportion, pos_path=\"1/\", neg_path=\"0/\"):\n",
    "    \"\"\"\n",
    "    Args:\n",
    "        data_path: list,数据所在文件夹，最后有一杠\n",
    "        valid_proportion: float，验证集所占百分比，小数，如0.1\n",
    "        test_proportion: float，测试集所占百分比\n",
    "        pos_path: str,正样本所在文件夹\n",
    "        neg_path: str,负样本所在文件夹\n",
    "    Returns:\n",
    "        x_train: list，dtype=str，图片路径\n",
    "        y_train: list, dtype=int\n",
    "        x_valid: list，dtype=str，图片路径\n",
    "        y_valid: list, dtype=int\n",
    "        x_test: list，dtype=str，图片路径\n",
    "        y_test: list, dtype=int\n",
    "    \"\"\"\n",
    "\n",
    "    pos_image_path = []\n",
    "    pos_labels = []\n",
    "\n",
    "    neg_image_path = []\n",
    "    neg_labels = []\n",
    "\n",
    "    ful_image_path = []\n",
    "    ful_labels = []\n",
    "\n",
    "    np.random.seed(0)\n",
    "\n",
    "    pos_path = data_path + pos_path\n",
    "    for img in tf.gfile.ListDirectory(pos_path):\n",
    "        label = 1\n",
    "\n",
    "        path = os.path.join(pos_path, img)\n",
    "        pos_image_path.append(path)\n",
    "        pos_labels.append(label)\n",
    "\n",
    "    neg_path = data_path + neg_path\n",
    "    for img in tf.gfile.ListDirectory(neg_path):\n",
    "        label = 0\n",
    "\n",
    "        path = os.path.join(neg_path, img)\n",
    "        neg_image_path.append(path)\n",
    "        neg_labels.append(label)\n",
    "\n",
    "    ful_image_path = pos_image_path + neg_image_path\n",
    "    ful_labels = pos_labels + neg_labels\n",
    "\n",
    "    temp = np.array([ful_image_path, ful_labels])\n",
    "    temp = temp.transpose()\n",
    "    np.random.shuffle(temp)\n",
    "    ful_image_path = list(temp[:, 0])\n",
    "    ful_labels = list(temp[:, 1])\n",
    "    ful_labels = [int(i) for i in ful_labels]\n",
    "\n",
    "    x_valid = []\n",
    "    y_valid = []\n",
    "    x_test = []\n",
    "    y_test = []\n",
    "    from sklearn.model_selection import train_test_split\n",
    "    if not valid_proportion == 0:\n",
    "        x_train, x_valid, y_train, y_valid = train_test_split(ful_image_path, ful_labels,\n",
    "                                                              test_size=(valid_proportion + test_proportion),\n",
    "                                                              stratify=ful_labels, random_state=1)\n",
    "        if not test_proportion == 0:\n",
    "            x_valid, x_test, y_valid, y_test = train_test_split(x_valid, y_valid, test_size=test_proportion / (\n",
    "                    valid_proportion + test_proportion), stratify=y_valid, random_state=1)\n",
    "    else:\n",
    "        x_train = ful_image_path\n",
    "        y_train = ful_labels\n",
    "\n",
    "    print(\"train_num: %d ,pos_num: %d , neg_num: %d\" % (\n",
    "        len(y_train), y_train.count(1), len(y_train) - y_train.count(1)))\n",
    "    print(\"valid_num: %d ,pos_num: %d , neg_num: %d\" % (\n",
    "        len(y_valid), y_valid.count(1), len(y_valid) - y_valid.count(1)))\n",
    "    print(\"test_num : %d ,pos_num: %d , neg_num: %d\" % (\n",
    "        len(y_test), y_test.count(1), len(y_test) - y_test.count(1)))\n",
    "\n",
    "    return x_train, y_train, x_valid, y_valid, x_test, y_test"
   ]
  },
  {
   "cell_type": "code",
   "execution_count": 3,
   "metadata": {
    "collapsed": true
   },
   "outputs": [],
   "source": [
    "Train_Proportion = 0.8  # Proportion of the data to be used for training\n",
    "Valid_Proportion = 0.1\n",
    "Test_Proportion = 0.1  #\n",
    "data_dir = \"F:/Github/clone/image_food_classification/datasets/food_101_dataset/\""
   ]
  },
  {
   "cell_type": "code",
   "execution_count": 4,
   "metadata": {
    "collapsed": false
   },
   "outputs": [
    {
     "name": "stdout",
     "output_type": "stream",
     "text": [
      "train_num: 3593 ,pos_num: 757 , neg_num: 2836\n",
      "valid_num: 449 ,pos_num: 95 , neg_num: 354\n",
      "test_num : 450 ,pos_num: 95 , neg_num: 355\n"
     ]
    }
   ],
   "source": [
    "x_train, y_train, x_valid, y_valid, x_test, y_test = load_image_path(data_dir, Valid_Proportion,Test_Proportion)"
   ]
  },
  {
   "cell_type": "code",
   "execution_count": null,
   "metadata": {
    "collapsed": true
   },
   "outputs": [],
   "source": []
  }
 ],
 "metadata": {
  "anaconda-cloud": {},
  "kernelspec": {
   "display_name": "Python [default]",
   "language": "python",
   "name": "python3"
  },
  "language_info": {
   "codemirror_mode": {
    "name": "ipython",
    "version": 3
   },
   "file_extension": ".py",
   "mimetype": "text/x-python",
   "name": "python",
   "nbconvert_exporter": "python",
   "pygments_lexer": "ipython3",
   "version": "3.5.2"
  }
 },
 "nbformat": 4,
 "nbformat_minor": 1
}
